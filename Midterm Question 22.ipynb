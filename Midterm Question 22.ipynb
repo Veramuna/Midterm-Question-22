{
 "cells": [
  {
   "cell_type": "code",
   "execution_count": 8,
   "id": "9d8cdff8-8f03-4387-a62a-6c289df3cdee",
   "metadata": {},
   "outputs": [
    {
     "name": "stdout",
     "output_type": "stream",
     "text": [
      "   id\n",
      "1   2\n",
      "3   4\n"
     ]
    }
   ],
   "source": [
    "import pandas as pd\n",
    "\n",
    "# Creating the DataFrame for Weather data\n",
    "data = {\n",
    "    'id': [1, 2, 3, 4],\n",
    "    'recordDate': ['2015-01-01', '2015-01-02', '2015-01-03', '2015-01-04'],\n",
    "    'temperature': [10, 25, 20, 30]\n",
    "}\n",
    "\n",
    "weather_df = pd.DataFrame(data)\n",
    "\n",
    "# Convert recordDate to datetime to ensure proper date comparison\n",
    "weather_df['recordDate'] = pd.to_datetime(weather_df['recordDate'])\n",
    "\n",
    "# Sorting by date to ensure the comparison works correctly\n",
    "weather_df = weather_df.sort_values(by='recordDate')\n",
    "\n",
    "# Using shift to get the temperature of the previous day\n",
    "weather_df['prev_temperature'] = weather_df['temperature'].shift(1)\n",
    "\n",
    "# Filter out the rows where the temperature is greater than the previous day's temperature\n",
    "result_df = weather_df[weather_df['temperature'] > weather_df['prev_temperature']]\n",
    "\n",
    "# Return the ids of those dates\n",
    "print(result_df[['id']])\n"
   ]
  },
  {
   "cell_type": "code",
   "execution_count": null,
   "id": "c360e7f5-3970-4af6-9010-d9a9363cfdb1",
   "metadata": {},
   "outputs": [],
   "source": []
  }
 ],
 "metadata": {
  "kernelspec": {
   "display_name": "Python 3 (ipykernel)",
   "language": "python",
   "name": "python3"
  },
  "language_info": {
   "codemirror_mode": {
    "name": "ipython",
    "version": 3
   },
   "file_extension": ".py",
   "mimetype": "text/x-python",
   "name": "python",
   "nbconvert_exporter": "python",
   "pygments_lexer": "ipython3",
   "version": "3.12.4"
  }
 },
 "nbformat": 4,
 "nbformat_minor": 5
}
